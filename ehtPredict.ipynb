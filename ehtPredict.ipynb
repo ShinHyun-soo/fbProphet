{
  "nbformat": 4,
  "nbformat_minor": 0,
  "metadata": {
    "colab": {
      "name": "BTC_predict.ipynb의 사본",
      "provenance": [],
      "include_colab_link": true
    },
    "kernelspec": {
      "name": "python3",
      "display_name": "Python 3"
    },
    "language_info": {
      "name": "python"
    }
  },
  "cells": [
    {
      "cell_type": "markdown",
      "metadata": {
        "id": "view-in-github",
        "colab_type": "text"
      },
      "source": [
        "<a href=\"https://colab.research.google.com/github/ShinHyun-soo/fbProphet/blob/main/ehtPredict.ipynb\" target=\"_parent\"><img src=\"https://colab.research.google.com/assets/colab-badge.svg\" alt=\"Open In Colab\"/></a>"
      ]
    },
    {
      "cell_type": "code",
      "metadata": {
        "id": "HV0SrOgcHMw_",
        "colab": {
          "base_uri": "https://localhost:8080/"
        },
        "outputId": "57fbf7e9-296a-431f-bca9-f29c0147794e"
      },
      "source": [
        "!pip install pyupbit"
      ],
      "execution_count": null,
      "outputs": [
        {
          "output_type": "stream",
          "text": [
            "Collecting pyupbit\n",
            "  Downloading https://files.pythonhosted.org/packages/03/8e/60089251ed1a06ed21903c8ae238f3ada5221de3576e474269a10921434d/pyupbit-0.2.19-py3-none-any.whl\n",
            "Collecting pyjwt>=2.0.0\n",
            "  Downloading https://files.pythonhosted.org/packages/3f/32/d5d3cab27fee7f6b22d7cd7507547ae45d52e26030fa77d1f83d0526c6e5/PyJWT-2.1.0-py3-none-any.whl\n",
            "Collecting websockets\n",
            "\u001b[?25l  Downloading https://files.pythonhosted.org/packages/84/64/78c2b3fe37730b30dca3c93d1f7f4a4286767f86e7c04cf3571b39bc2fb7/websockets-9.1-cp37-cp37m-manylinux2010_x86_64.whl (103kB)\n",
            "\u001b[K     |████████████████████████████████| 112kB 5.6MB/s \n",
            "\u001b[?25hRequirement already satisfied: requests in /usr/local/lib/python3.7/dist-packages (from pyupbit) (2.23.0)\n",
            "Requirement already satisfied: pandas in /usr/local/lib/python3.7/dist-packages (from pyupbit) (1.1.5)\n",
            "Requirement already satisfied: urllib3!=1.25.0,!=1.25.1,<1.26,>=1.21.1 in /usr/local/lib/python3.7/dist-packages (from requests->pyupbit) (1.24.3)\n",
            "Requirement already satisfied: idna<3,>=2.5 in /usr/local/lib/python3.7/dist-packages (from requests->pyupbit) (2.10)\n",
            "Requirement already satisfied: certifi>=2017.4.17 in /usr/local/lib/python3.7/dist-packages (from requests->pyupbit) (2021.5.30)\n",
            "Requirement already satisfied: chardet<4,>=3.0.2 in /usr/local/lib/python3.7/dist-packages (from requests->pyupbit) (3.0.4)\n",
            "Requirement already satisfied: pytz>=2017.2 in /usr/local/lib/python3.7/dist-packages (from pandas->pyupbit) (2018.9)\n",
            "Requirement already satisfied: python-dateutil>=2.7.3 in /usr/local/lib/python3.7/dist-packages (from pandas->pyupbit) (2.8.1)\n",
            "Requirement already satisfied: numpy>=1.15.4 in /usr/local/lib/python3.7/dist-packages (from pandas->pyupbit) (1.19.5)\n",
            "Requirement already satisfied: six>=1.5 in /usr/local/lib/python3.7/dist-packages (from python-dateutil>=2.7.3->pandas->pyupbit) (1.15.0)\n",
            "Installing collected packages: pyjwt, websockets, pyupbit\n",
            "Successfully installed pyjwt-2.1.0 pyupbit-0.2.19 websockets-9.1\n"
          ],
          "name": "stdout"
        }
      ]
    },
    {
      "cell_type": "code",
      "metadata": {
        "id": "OPo1hQ62HcxA"
      },
      "source": [
        "import pyupbit"
      ],
      "execution_count": null,
      "outputs": []
    },
    {
      "cell_type": "code",
      "metadata": {
        "colab": {
          "base_uri": "https://localhost:8080/",
          "height": 419
        },
        "id": "sjI3ac9tT7D2",
        "outputId": "027b3461-9d49-4a74-be57-16b3a3cd0a19"
      },
      "source": [
        "#BTC 최근 200시간의 데이터 불러옴\n",
        "df = pyupbit.get_ohlcv(\"KRW-ETH\", interval=\"minute60\")\n",
        "df"
      ],
      "execution_count": null,
      "outputs": [
        {
          "output_type": "execute_result",
          "data": {
            "text/html": [
              "<div>\n",
              "<style scoped>\n",
              "    .dataframe tbody tr th:only-of-type {\n",
              "        vertical-align: middle;\n",
              "    }\n",
              "\n",
              "    .dataframe tbody tr th {\n",
              "        vertical-align: top;\n",
              "    }\n",
              "\n",
              "    .dataframe thead th {\n",
              "        text-align: right;\n",
              "    }\n",
              "</style>\n",
              "<table border=\"1\" class=\"dataframe\">\n",
              "  <thead>\n",
              "    <tr style=\"text-align: right;\">\n",
              "      <th></th>\n",
              "      <th>open</th>\n",
              "      <th>high</th>\n",
              "      <th>low</th>\n",
              "      <th>close</th>\n",
              "      <th>volume</th>\n",
              "      <th>value</th>\n",
              "    </tr>\n",
              "  </thead>\n",
              "  <tbody>\n",
              "    <tr>\n",
              "      <th>2021-06-24 10:00:00</th>\n",
              "      <td>2249000.0</td>\n",
              "      <td>2270000.0</td>\n",
              "      <td>2221000.0</td>\n",
              "      <td>2226000.0</td>\n",
              "      <td>9299.150410</td>\n",
              "      <td>2.086342e+10</td>\n",
              "    </tr>\n",
              "    <tr>\n",
              "      <th>2021-06-24 11:00:00</th>\n",
              "      <td>2226000.0</td>\n",
              "      <td>2238000.0</td>\n",
              "      <td>2201000.0</td>\n",
              "      <td>2207000.0</td>\n",
              "      <td>7470.213001</td>\n",
              "      <td>1.654300e+10</td>\n",
              "    </tr>\n",
              "    <tr>\n",
              "      <th>2021-06-24 12:00:00</th>\n",
              "      <td>2207000.0</td>\n",
              "      <td>2249000.0</td>\n",
              "      <td>2204000.0</td>\n",
              "      <td>2225000.0</td>\n",
              "      <td>5973.231825</td>\n",
              "      <td>1.329860e+10</td>\n",
              "    </tr>\n",
              "    <tr>\n",
              "      <th>2021-06-24 13:00:00</th>\n",
              "      <td>2225000.0</td>\n",
              "      <td>2243000.0</td>\n",
              "      <td>2209000.0</td>\n",
              "      <td>2226000.0</td>\n",
              "      <td>5292.399874</td>\n",
              "      <td>1.179030e+10</td>\n",
              "    </tr>\n",
              "    <tr>\n",
              "      <th>2021-06-24 14:00:00</th>\n",
              "      <td>2227000.0</td>\n",
              "      <td>2252000.0</td>\n",
              "      <td>2223000.0</td>\n",
              "      <td>2249000.0</td>\n",
              "      <td>4506.446371</td>\n",
              "      <td>1.008378e+10</td>\n",
              "    </tr>\n",
              "    <tr>\n",
              "      <th>...</th>\n",
              "      <td>...</td>\n",
              "      <td>...</td>\n",
              "      <td>...</td>\n",
              "      <td>...</td>\n",
              "      <td>...</td>\n",
              "      <td>...</td>\n",
              "    </tr>\n",
              "    <tr>\n",
              "      <th>2021-07-02 15:00:00</th>\n",
              "      <td>2376000.0</td>\n",
              "      <td>2387000.0</td>\n",
              "      <td>2362000.0</td>\n",
              "      <td>2381000.0</td>\n",
              "      <td>4626.167478</td>\n",
              "      <td>1.097863e+10</td>\n",
              "    </tr>\n",
              "    <tr>\n",
              "      <th>2021-07-02 16:00:00</th>\n",
              "      <td>2383000.0</td>\n",
              "      <td>2427000.0</td>\n",
              "      <td>2374000.0</td>\n",
              "      <td>2416000.0</td>\n",
              "      <td>5674.527430</td>\n",
              "      <td>1.363751e+10</td>\n",
              "    </tr>\n",
              "    <tr>\n",
              "      <th>2021-07-02 17:00:00</th>\n",
              "      <td>2417000.0</td>\n",
              "      <td>2440000.0</td>\n",
              "      <td>2400000.0</td>\n",
              "      <td>2410000.0</td>\n",
              "      <td>5872.584398</td>\n",
              "      <td>1.419839e+10</td>\n",
              "    </tr>\n",
              "    <tr>\n",
              "      <th>2021-07-02 18:00:00</th>\n",
              "      <td>2410000.0</td>\n",
              "      <td>2410000.0</td>\n",
              "      <td>2381000.0</td>\n",
              "      <td>2394000.0</td>\n",
              "      <td>2933.998796</td>\n",
              "      <td>7.021210e+09</td>\n",
              "    </tr>\n",
              "    <tr>\n",
              "      <th>2021-07-02 19:00:00</th>\n",
              "      <td>2393000.0</td>\n",
              "      <td>2402000.0</td>\n",
              "      <td>2375000.0</td>\n",
              "      <td>2397000.0</td>\n",
              "      <td>3306.192752</td>\n",
              "      <td>7.887198e+09</td>\n",
              "    </tr>\n",
              "  </tbody>\n",
              "</table>\n",
              "<p>200 rows × 6 columns</p>\n",
              "</div>"
            ],
            "text/plain": [
              "                          open       high  ...       volume         value\n",
              "2021-06-24 10:00:00  2249000.0  2270000.0  ...  9299.150410  2.086342e+10\n",
              "2021-06-24 11:00:00  2226000.0  2238000.0  ...  7470.213001  1.654300e+10\n",
              "2021-06-24 12:00:00  2207000.0  2249000.0  ...  5973.231825  1.329860e+10\n",
              "2021-06-24 13:00:00  2225000.0  2243000.0  ...  5292.399874  1.179030e+10\n",
              "2021-06-24 14:00:00  2227000.0  2252000.0  ...  4506.446371  1.008378e+10\n",
              "...                        ...        ...  ...          ...           ...\n",
              "2021-07-02 15:00:00  2376000.0  2387000.0  ...  4626.167478  1.097863e+10\n",
              "2021-07-02 16:00:00  2383000.0  2427000.0  ...  5674.527430  1.363751e+10\n",
              "2021-07-02 17:00:00  2417000.0  2440000.0  ...  5872.584398  1.419839e+10\n",
              "2021-07-02 18:00:00  2410000.0  2410000.0  ...  2933.998796  7.021210e+09\n",
              "2021-07-02 19:00:00  2393000.0  2402000.0  ...  3306.192752  7.887198e+09\n",
              "\n",
              "[200 rows x 6 columns]"
            ]
          },
          "metadata": {
            "tags": []
          },
          "execution_count": 24
        }
      ]
    },
    {
      "cell_type": "code",
      "metadata": {
        "colab": {
          "base_uri": "https://localhost:8080/",
          "height": 419
        },
        "id": "eDaG0GWkVO3N",
        "outputId": "0832c716-8444-4253-a520-31de1649458e"
      },
      "source": [
        "#시간(ds)와 종가(y)값만 남김\n",
        "df = df.reset_index()\n",
        "df['ds'] = df['index']\n",
        "df['y'] = df['close']\n",
        "data = df[['ds','y']]\n",
        "data"
      ],
      "execution_count": null,
      "outputs": [
        {
          "output_type": "execute_result",
          "data": {
            "text/html": [
              "<div>\n",
              "<style scoped>\n",
              "    .dataframe tbody tr th:only-of-type {\n",
              "        vertical-align: middle;\n",
              "    }\n",
              "\n",
              "    .dataframe tbody tr th {\n",
              "        vertical-align: top;\n",
              "    }\n",
              "\n",
              "    .dataframe thead th {\n",
              "        text-align: right;\n",
              "    }\n",
              "</style>\n",
              "<table border=\"1\" class=\"dataframe\">\n",
              "  <thead>\n",
              "    <tr style=\"text-align: right;\">\n",
              "      <th></th>\n",
              "      <th>ds</th>\n",
              "      <th>y</th>\n",
              "    </tr>\n",
              "  </thead>\n",
              "  <tbody>\n",
              "    <tr>\n",
              "      <th>0</th>\n",
              "      <td>2021-06-24 10:00:00</td>\n",
              "      <td>2226000.0</td>\n",
              "    </tr>\n",
              "    <tr>\n",
              "      <th>1</th>\n",
              "      <td>2021-06-24 11:00:00</td>\n",
              "      <td>2207000.0</td>\n",
              "    </tr>\n",
              "    <tr>\n",
              "      <th>2</th>\n",
              "      <td>2021-06-24 12:00:00</td>\n",
              "      <td>2225000.0</td>\n",
              "    </tr>\n",
              "    <tr>\n",
              "      <th>3</th>\n",
              "      <td>2021-06-24 13:00:00</td>\n",
              "      <td>2226000.0</td>\n",
              "    </tr>\n",
              "    <tr>\n",
              "      <th>4</th>\n",
              "      <td>2021-06-24 14:00:00</td>\n",
              "      <td>2249000.0</td>\n",
              "    </tr>\n",
              "    <tr>\n",
              "      <th>...</th>\n",
              "      <td>...</td>\n",
              "      <td>...</td>\n",
              "    </tr>\n",
              "    <tr>\n",
              "      <th>195</th>\n",
              "      <td>2021-07-02 15:00:00</td>\n",
              "      <td>2381000.0</td>\n",
              "    </tr>\n",
              "    <tr>\n",
              "      <th>196</th>\n",
              "      <td>2021-07-02 16:00:00</td>\n",
              "      <td>2416000.0</td>\n",
              "    </tr>\n",
              "    <tr>\n",
              "      <th>197</th>\n",
              "      <td>2021-07-02 17:00:00</td>\n",
              "      <td>2410000.0</td>\n",
              "    </tr>\n",
              "    <tr>\n",
              "      <th>198</th>\n",
              "      <td>2021-07-02 18:00:00</td>\n",
              "      <td>2394000.0</td>\n",
              "    </tr>\n",
              "    <tr>\n",
              "      <th>199</th>\n",
              "      <td>2021-07-02 19:00:00</td>\n",
              "      <td>2397000.0</td>\n",
              "    </tr>\n",
              "  </tbody>\n",
              "</table>\n",
              "<p>200 rows × 2 columns</p>\n",
              "</div>"
            ],
            "text/plain": [
              "                     ds          y\n",
              "0   2021-06-24 10:00:00  2226000.0\n",
              "1   2021-06-24 11:00:00  2207000.0\n",
              "2   2021-06-24 12:00:00  2225000.0\n",
              "3   2021-06-24 13:00:00  2226000.0\n",
              "4   2021-06-24 14:00:00  2249000.0\n",
              "..                  ...        ...\n",
              "195 2021-07-02 15:00:00  2381000.0\n",
              "196 2021-07-02 16:00:00  2416000.0\n",
              "197 2021-07-02 17:00:00  2410000.0\n",
              "198 2021-07-02 18:00:00  2394000.0\n",
              "199 2021-07-02 19:00:00  2397000.0\n",
              "\n",
              "[200 rows x 2 columns]"
            ]
          },
          "metadata": {
            "tags": []
          },
          "execution_count": 25
        }
      ]
    },
    {
      "cell_type": "code",
      "metadata": {
        "id": "NeNx5_hhXbR1"
      },
      "source": [
        "#prophet 불러옴\n",
        "from fbprophet import Prophet"
      ],
      "execution_count": null,
      "outputs": []
    },
    {
      "cell_type": "code",
      "metadata": {
        "colab": {
          "base_uri": "https://localhost:8080/"
        },
        "id": "lLe7j7jnVep2",
        "outputId": "cd8b9087-02c9-4c69-c4cb-6a017375388d"
      },
      "source": [
        "#학습\n",
        "model = Prophet()\n",
        "model.fit(data)"
      ],
      "execution_count": null,
      "outputs": [
        {
          "output_type": "stream",
          "text": [
            "INFO:fbprophet:Disabling yearly seasonality. Run prophet with yearly_seasonality=True to override this.\n",
            "INFO:fbprophet:Disabling weekly seasonality. Run prophet with weekly_seasonality=True to override this.\n"
          ],
          "name": "stderr"
        },
        {
          "output_type": "execute_result",
          "data": {
            "text/plain": [
              "<fbprophet.forecaster.Prophet at 0x7f7ef6873450>"
            ]
          },
          "metadata": {
            "tags": []
          },
          "execution_count": 27
        }
      ]
    },
    {
      "cell_type": "code",
      "metadata": {
        "id": "ylP8nXwEYBxK"
      },
      "source": [
        "#24시간 미래 예측\n",
        "future = model.make_future_dataframe(periods=24, freq='H')\n",
        "forecast = model.predict(future)"
      ],
      "execution_count": null,
      "outputs": []
    },
    {
      "cell_type": "code",
      "metadata": {
        "colab": {
          "base_uri": "https://localhost:8080/",
          "height": 441
        },
        "id": "_zzI5o0OXN5H",
        "outputId": "e26e2193-8266-40a0-efdc-b3ec377bc372"
      },
      "source": [
        "#그래프1\n",
        "fig1 = model.plot(forecast)"
      ],
      "execution_count": null,
      "outputs": [
        {
          "output_type": "display_data",
          "data": {
            "image/png": "[encoded data removed]",
            "text/plain": [
              "<Figure size 720x432 with 1 Axes>"
            ]
          },
          "metadata": {
            "tags": []
          }
        }
      ]
    },
    {
      "cell_type": "code",
      "metadata": {
        "colab": {
          "base_uri": "https://localhost:8080/",
          "height": 441
        },
        "id": "DkVLmIsPXOl6",
        "outputId": "16fba0b0-0a68-415a-8a5f-562e2c7d67ec"
      },
      "source": [
        "#그래프2\n",
        "fig2 = model.plot_components(forecast)"
      ],
      "execution_count": null,
      "outputs": [
        {
          "output_type": "display_data",
          "data": {
            "image/png": "[encoded data removed]",
            "text/plain": [
              "<Figure size 648x432 with 2 Axes>"
            ]
          },
          "metadata": {
            "tags": []
          }
        }
      ]
    },
    {
      "cell_type": "code",
      "metadata": {
        "colab": {
          "base_uri": "https://localhost:8080/"
        },
        "id": "GJgSNaOcr5_t",
        "outputId": "3cf9b79d-94d6-4da8-dac0-24edd0b0c57d"
      },
      "source": [
        "#매수 시점의 가격\n",
        "nowValue = pyupbit.get_current_price(\"KRW-BTC\")\n",
        "nowValue"
      ],
      "execution_count": null,
      "outputs": [
        {
          "output_type": "execute_result",
          "data": {
            "text/plain": [
              "57098000.0"
            ]
          },
          "metadata": {
            "tags": []
          },
          "execution_count": 84
        }
      ]
    },
    {
      "cell_type": "code",
      "metadata": {
        "colab": {
          "base_uri": "https://localhost:8080/"
        },
        "id": "SPXCEMj4ma6h",
        "outputId": "1918f82e-5d28-4f0d-cf79-d8c457671d96"
      },
      "source": [
        "#종가의 가격을 구함\n",
        "\n",
        "#현재 시간이 자정 이전\n",
        "closeDf = forecast[forecast['ds'] == forecast.iloc[-1]['ds'].replace(hour=9)]\n",
        "\n",
        "#현재 시간이 자정 이후\n",
        "if len(closeDf) == 0:\n",
        "  closeDf = forecast[forecast['ds'] == data.iloc[-1]['ds'].replace(hour=9)]\n",
        "\n",
        "#어쨋든 당일 종가\n",
        "closeValue = closeDf['yhat'].values[0]\n",
        "closeValue"
      ],
      "execution_count": null,
      "outputs": [
        {
          "output_type": "execute_result",
          "data": {
            "text/plain": [
              "58097882.673339084"
            ]
          },
          "metadata": {
            "tags": []
          },
          "execution_count": 85
        }
      ]
    },
    {
      "cell_type": "code",
      "metadata": {
        "colab": {
          "base_uri": "https://localhost:8080/"
        },
        "id": "bUOLBXFNm2cd",
        "outputId": "be8d1c13-ad5a-46ec-bdb7-006098b9057a"
      },
      "source": [
        "#구체적인 가격\n",
        "print(\"현재 시점 가격: \", nowValue)\n",
        "print(\"종가의 가격: \", closeValue)"
      ],
      "execution_count": null,
      "outputs": [
        {
          "output_type": "stream",
          "text": [
            "현재 시점 가격:  57098000.0\n",
            "종가의 가격:  58097882.673339084\n"
          ],
          "name": "stdout"
        }
      ]
    },
    {
      "cell_type": "code",
      "metadata": {
        "colab": {
          "base_uri": "https://localhost:8080/",
          "height": 758
        },
        "id": "BS_M58SRt94s",
        "outputId": "13b02e67-563d-4956-baf0-8cc58bbc64da"
      },
      "source": [
        "forecast"
      ],
      "execution_count": null,
      "outputs": [
        {
          "output_type": "execute_result",
          "data": {
            "text/html": [
              "<div>\n",
              "<style scoped>\n",
              "    .dataframe tbody tr th:only-of-type {\n",
              "        vertical-align: middle;\n",
              "    }\n",
              "\n",
              "    .dataframe tbody tr th {\n",
              "        vertical-align: top;\n",
              "    }\n",
              "\n",
              "    .dataframe thead th {\n",
              "        text-align: right;\n",
              "    }\n",
              "</style>\n",
              "<table border=\"1\" class=\"dataframe\">\n",
              "  <thead>\n",
              "    <tr style=\"text-align: right;\">\n",
              "      <th></th>\n",
              "      <th>ds</th>\n",
              "      <th>trend</th>\n",
              "      <th>yhat_lower</th>\n",
              "      <th>yhat_upper</th>\n",
              "      <th>trend_lower</th>\n",
              "      <th>trend_upper</th>\n",
              "      <th>additive_terms</th>\n",
              "      <th>additive_terms_lower</th>\n",
              "      <th>additive_terms_upper</th>\n",
              "      <th>daily</th>\n",
              "      <th>daily_lower</th>\n",
              "      <th>daily_upper</th>\n",
              "      <th>multiplicative_terms</th>\n",
              "      <th>multiplicative_terms_lower</th>\n",
              "      <th>multiplicative_terms_upper</th>\n",
              "      <th>yhat</th>\n",
              "    </tr>\n",
              "  </thead>\n",
              "  <tbody>\n",
              "    <tr>\n",
              "      <th>0</th>\n",
              "      <td>2021-05-08 20:00:00</td>\n",
              "      <td>7.049319e+07</td>\n",
              "      <td>6.978264e+07</td>\n",
              "      <td>7.145666e+07</td>\n",
              "      <td>7.049319e+07</td>\n",
              "      <td>7.049319e+07</td>\n",
              "      <td>73763.938017</td>\n",
              "      <td>73763.938017</td>\n",
              "      <td>73763.938017</td>\n",
              "      <td>73763.938017</td>\n",
              "      <td>73763.938017</td>\n",
              "      <td>73763.938017</td>\n",
              "      <td>0.0</td>\n",
              "      <td>0.0</td>\n",
              "      <td>0.0</td>\n",
              "      <td>7.056695e+07</td>\n",
              "    </tr>\n",
              "    <tr>\n",
              "      <th>1</th>\n",
              "      <td>2021-05-08 21:00:00</td>\n",
              "      <td>7.054058e+07</td>\n",
              "      <td>6.981790e+07</td>\n",
              "      <td>7.151720e+07</td>\n",
              "      <td>7.054058e+07</td>\n",
              "      <td>7.054058e+07</td>\n",
              "      <td>155154.366642</td>\n",
              "      <td>155154.366642</td>\n",
              "      <td>155154.366642</td>\n",
              "      <td>155154.366642</td>\n",
              "      <td>155154.366642</td>\n",
              "      <td>155154.366642</td>\n",
              "      <td>0.0</td>\n",
              "      <td>0.0</td>\n",
              "      <td>0.0</td>\n",
              "      <td>7.069573e+07</td>\n",
              "    </tr>\n",
              "    <tr>\n",
              "      <th>2</th>\n",
              "      <td>2021-05-08 22:00:00</td>\n",
              "      <td>7.058797e+07</td>\n",
              "      <td>6.993552e+07</td>\n",
              "      <td>7.159752e+07</td>\n",
              "      <td>7.058797e+07</td>\n",
              "      <td>7.058797e+07</td>\n",
              "      <td>200297.460741</td>\n",
              "      <td>200297.460741</td>\n",
              "      <td>200297.460741</td>\n",
              "      <td>200297.460741</td>\n",
              "      <td>200297.460741</td>\n",
              "      <td>200297.460741</td>\n",
              "      <td>0.0</td>\n",
              "      <td>0.0</td>\n",
              "      <td>0.0</td>\n",
              "      <td>7.078827e+07</td>\n",
              "    </tr>\n",
              "    <tr>\n",
              "      <th>3</th>\n",
              "      <td>2021-05-08 23:00:00</td>\n",
              "      <td>7.063536e+07</td>\n",
              "      <td>6.995876e+07</td>\n",
              "      <td>7.160555e+07</td>\n",
              "      <td>7.063536e+07</td>\n",
              "      <td>7.063536e+07</td>\n",
              "      <td>127033.847973</td>\n",
              "      <td>127033.847973</td>\n",
              "      <td>127033.847973</td>\n",
              "      <td>127033.847973</td>\n",
              "      <td>127033.847973</td>\n",
              "      <td>127033.847973</td>\n",
              "      <td>0.0</td>\n",
              "      <td>0.0</td>\n",
              "      <td>0.0</td>\n",
              "      <td>7.076239e+07</td>\n",
              "    </tr>\n",
              "    <tr>\n",
              "      <th>4</th>\n",
              "      <td>2021-05-09 00:00:00</td>\n",
              "      <td>7.068275e+07</td>\n",
              "      <td>6.977696e+07</td>\n",
              "      <td>7.145736e+07</td>\n",
              "      <td>7.068275e+07</td>\n",
              "      <td>7.068275e+07</td>\n",
              "      <td>-64004.026527</td>\n",
              "      <td>-64004.026527</td>\n",
              "      <td>-64004.026527</td>\n",
              "      <td>-64004.026527</td>\n",
              "      <td>-64004.026527</td>\n",
              "      <td>-64004.026527</td>\n",
              "      <td>0.0</td>\n",
              "      <td>0.0</td>\n",
              "      <td>0.0</td>\n",
              "      <td>7.061875e+07</td>\n",
              "    </tr>\n",
              "    <tr>\n",
              "      <th>...</th>\n",
              "      <td>...</td>\n",
              "      <td>...</td>\n",
              "      <td>...</td>\n",
              "      <td>...</td>\n",
              "      <td>...</td>\n",
              "      <td>...</td>\n",
              "      <td>...</td>\n",
              "      <td>...</td>\n",
              "      <td>...</td>\n",
              "      <td>...</td>\n",
              "      <td>...</td>\n",
              "      <td>...</td>\n",
              "      <td>...</td>\n",
              "      <td>...</td>\n",
              "      <td>...</td>\n",
              "      <td>...</td>\n",
              "    </tr>\n",
              "    <tr>\n",
              "      <th>219</th>\n",
              "      <td>2021-05-17 23:00:00</td>\n",
              "      <td>5.741650e+07</td>\n",
              "      <td>5.620334e+07</td>\n",
              "      <td>5.893053e+07</td>\n",
              "      <td>5.640791e+07</td>\n",
              "      <td>5.859450e+07</td>\n",
              "      <td>127033.847977</td>\n",
              "      <td>127033.847977</td>\n",
              "      <td>127033.847977</td>\n",
              "      <td>127033.847977</td>\n",
              "      <td>127033.847977</td>\n",
              "      <td>127033.847977</td>\n",
              "      <td>0.0</td>\n",
              "      <td>0.0</td>\n",
              "      <td>0.0</td>\n",
              "      <td>5.754353e+07</td>\n",
              "    </tr>\n",
              "    <tr>\n",
              "      <th>220</th>\n",
              "      <td>2021-05-18 00:00:00</td>\n",
              "      <td>5.735429e+07</td>\n",
              "      <td>5.587900e+07</td>\n",
              "      <td>5.883842e+07</td>\n",
              "      <td>5.624516e+07</td>\n",
              "      <td>5.862328e+07</td>\n",
              "      <td>-64004.026533</td>\n",
              "      <td>-64004.026533</td>\n",
              "      <td>-64004.026533</td>\n",
              "      <td>-64004.026533</td>\n",
              "      <td>-64004.026533</td>\n",
              "      <td>-64004.026533</td>\n",
              "      <td>0.0</td>\n",
              "      <td>0.0</td>\n",
              "      <td>0.0</td>\n",
              "      <td>5.729029e+07</td>\n",
              "    </tr>\n",
              "    <tr>\n",
              "      <th>221</th>\n",
              "      <td>2021-05-18 01:00:00</td>\n",
              "      <td>5.729208e+07</td>\n",
              "      <td>5.553360e+07</td>\n",
              "      <td>5.871707e+07</td>\n",
              "      <td>5.610166e+07</td>\n",
              "      <td>5.864511e+07</td>\n",
              "      <td>-264151.046571</td>\n",
              "      <td>-264151.046571</td>\n",
              "      <td>-264151.046571</td>\n",
              "      <td>-264151.046571</td>\n",
              "      <td>-264151.046571</td>\n",
              "      <td>-264151.046571</td>\n",
              "      <td>0.0</td>\n",
              "      <td>0.0</td>\n",
              "      <td>0.0</td>\n",
              "      <td>5.702793e+07</td>\n",
              "    </tr>\n",
              "    <tr>\n",
              "      <th>222</th>\n",
              "      <td>2021-05-18 02:00:00</td>\n",
              "      <td>5.722988e+07</td>\n",
              "      <td>5.527597e+07</td>\n",
              "      <td>5.845177e+07</td>\n",
              "      <td>5.594232e+07</td>\n",
              "      <td>5.868056e+07</td>\n",
              "      <td>-331244.053737</td>\n",
              "      <td>-331244.053737</td>\n",
              "      <td>-331244.053737</td>\n",
              "      <td>-331244.053737</td>\n",
              "      <td>-331244.053737</td>\n",
              "      <td>-331244.053737</td>\n",
              "      <td>0.0</td>\n",
              "      <td>0.0</td>\n",
              "      <td>0.0</td>\n",
              "      <td>5.689863e+07</td>\n",
              "    </tr>\n",
              "    <tr>\n",
              "      <th>223</th>\n",
              "      <td>2021-05-18 03:00:00</td>\n",
              "      <td>5.716767e+07</td>\n",
              "      <td>5.526153e+07</td>\n",
              "      <td>5.871909e+07</td>\n",
              "      <td>5.577408e+07</td>\n",
              "      <td>5.873862e+07</td>\n",
              "      <td>-207139.503841</td>\n",
              "      <td>-207139.503841</td>\n",
              "      <td>-207139.503841</td>\n",
              "      <td>-207139.503841</td>\n",
              "      <td>-207139.503841</td>\n",
              "      <td>-207139.503841</td>\n",
              "      <td>0.0</td>\n",
              "      <td>0.0</td>\n",
              "      <td>0.0</td>\n",
              "      <td>5.696053e+07</td>\n",
              "    </tr>\n",
              "  </tbody>\n",
              "</table>\n",
              "<p>224 rows × 16 columns</p>\n",
              "</div>"
            ],
            "text/plain": [
              "                     ds         trend  ...  multiplicative_terms_upper          yhat\n",
              "0   2021-05-08 20:00:00  7.049319e+07  ...                         0.0  7.056695e+07\n",
              "1   2021-05-08 21:00:00  7.054058e+07  ...                         0.0  7.069573e+07\n",
              "2   2021-05-08 22:00:00  7.058797e+07  ...                         0.0  7.078827e+07\n",
              "3   2021-05-08 23:00:00  7.063536e+07  ...                         0.0  7.076239e+07\n",
              "4   2021-05-09 00:00:00  7.068275e+07  ...                         0.0  7.061875e+07\n",
              "..                  ...           ...  ...                         ...           ...\n",
              "219 2021-05-17 23:00:00  5.741650e+07  ...                         0.0  5.754353e+07\n",
              "220 2021-05-18 00:00:00  5.735429e+07  ...                         0.0  5.729029e+07\n",
              "221 2021-05-18 01:00:00  5.729208e+07  ...                         0.0  5.702793e+07\n",
              "222 2021-05-18 02:00:00  5.722988e+07  ...                         0.0  5.689863e+07\n",
              "223 2021-05-18 03:00:00  5.716767e+07  ...                         0.0  5.696053e+07\n",
              "\n",
              "[224 rows x 16 columns]"
            ]
          },
          "metadata": {
            "tags": []
          },
          "execution_count": 87
        }
      ]
    },
    {
      "cell_type": "code",
      "metadata": {
        "id": "JB_UYNJ-uYZr"
      },
      "source": [
        ""
      ],
      "execution_count": null,
      "outputs": []
    }
  ]
}